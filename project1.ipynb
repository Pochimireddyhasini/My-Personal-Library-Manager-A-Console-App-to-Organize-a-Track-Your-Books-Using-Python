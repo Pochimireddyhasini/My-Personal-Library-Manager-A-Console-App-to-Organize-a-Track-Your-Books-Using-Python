{
 "cells": [
  {
   "cell_type": "markdown",
   "id": "e3f74887-39ce-48a3-8bb5-4287b492596f",
   "metadata": {},
   "source": [
    "My Personal Library Manager:A Console App to Organize a Trac"
   ]
  },
  {
   "cell_type": "code",
   "execution_count": 34,
   "id": "33e5bde5-58d0-4e4a-b69d-2fcd108553b0",
   "metadata": {},
   "outputs": [],
   "source": [
    "import os"
   ]
  },
  {
   "cell_type": "code",
   "execution_count": 35,
   "id": "054108c6-d20e-4da4-bb3f-22d2161c5f2f",
   "metadata": {},
   "outputs": [],
   "source": [
    "library=[]"
   ]
  },
  {
   "cell_type": "code",
   "execution_count": 36,
   "id": "447f99d0-cdf8-4955-8ad9-e93cffa5f401",
   "metadata": {},
   "outputs": [],
   "source": [
    "#function to add books\n",
    "def add_book(title, author, genre, year, status=\"unread\"):\n",
    "    book = {\n",
    "        \"title\": title.strip(),\n",
    "        \"author\": author.strip(),\n",
    "        \"genre\": genre.strip(),\n",
    "        \"year\": int(year),\n",
    "        \"status\": status.lower()\n",
    "    }\n",
    "    library.append(book)\n",
    "    print(f\"Book '{title}' added.\")"
   ]
  },
  {
   "cell_type": "code",
   "execution_count": 37,
   "id": "99f1a13d-5650-49d4-8509-6531f9f3ccc2",
   "metadata": {},
   "outputs": [],
   "source": [
    "# function to list books\n",
    "def list_books(sorted_by_year=False):\n",
    "    if not library:\n",
    "        print(\"Library is empty.\")\n",
    "        return\n",
    "    books = sorted(library, key=lambda x: x['year']) if sorted_by_year else library\n",
    "    for idx, book in enumerate(books, start=1):\n",
    "        print(f\"{idx}. {book['title']} by {book['author']} [{book['genre']}, {book['year']}] - {book['status'].capitalize()}\")"
   ]
  },
  {
   "cell_type": "code",
   "execution_count": 38,
   "id": "b1eb31e9-c1eb-42f8-83b7-6cbeeb22e1a0",
   "metadata": {},
   "outputs": [],
   "source": [
    "def search_by_author(author_name):\n",
    "    return [book for book in library if author_name.lower() in book['author'].lower()]"
   ]
  },
  {
   "cell_type": "code",
   "execution_count": 39,
   "id": "58b2f715-a9b4-4db3-ab09-e58afc2fa384",
   "metadata": {},
   "outputs": [],
   "source": [
    "def delete_book(title):\n",
    "    global library\n",
    "    library = list(filter(lambda book: book['title'].lower() !=title.lower(),library))\n",
    "    print(f\"Book titled '{title}' has been removed if it existed.\")"
   ]
  },
  {
   "cell_type": "code",
   "execution_count": 40,
   "id": "53b4e5b3-4f61-4206-b454-7e1a0478eae9",
   "metadata": {},
   "outputs": [],
   "source": [
    "# Show Reading Summary\n",
    "def show_reading_summary():\n",
    "    if not library:\n",
    "        print(\"No books in library.\")\n",
    "        return\n",
    "    read = len(list(filter(lambda x: x['status'] == 'read', library)))\n",
    "    unread = len(library) - read\n",
    "    print(f\"Read: {read} books ({(read/len(library))*100:.2f}%)\")\n",
    "    print(f\"Unread: {unread} books ({(unread/len(library))*100:.2f}%)\")"
   ]
  },
  {
   "cell_type": "code",
   "execution_count": 41,
   "id": "ee0cb213-3456-45bc-a605-70a5f18f9e02",
   "metadata": {},
   "outputs": [],
   "source": [
    "#  Convert Titles of the Books to Capital Letter\n",
    "def uppercase_titles():\n",
    "    titles = list(map(lambda b: b['title'].upper(), library))\n",
    "    print(\"Book Titles (UPPERCASE):\")\n",
    "    for title in titles:\n",
    "        print(\"-\", title)\n"
   ]
  },
  {
   "cell_type": "code",
   "execution_count": 42,
   "id": "9b521099-2946-44c6-af6b-b48bb57221e7",
   "metadata": {},
   "outputs": [],
   "source": [
    "#  Function to Save library of books to a file\n",
    "def save_to_file(filename):\n",
    "    try:\n",
    "        with open(filename, 'w') as f:\n",
    "            for book in library:\n",
    "                line = f\"{book['title']},{book['author']},{book['genre']},{book['year']},{book['status']}\"\n",
    "                f.write(line)\n",
    "        print(f\"Saved {len(library)} books to {filename}\")  # After saving all the books, this line prints a confirmation message.It says how many books were saved and the name of the file.\n",
    "    except Exception as e:\n",
    "        print(\"Error saving file:\", e)"
   ]
  },
  {
   "cell_type": "code",
   "execution_count": 43,
   "id": "40612862-5931-4ea9-afb7-84442a38af4a",
   "metadata": {},
   "outputs": [],
   "source": [
    "#  Loading Book Data from a File\n",
    "def load_from_file(filename):\n",
    "    if not os.path.exists(filename): #here os is used for interaction (when there is no file we interact with os)\n",
    "        print(\"File not found. Starting with an empty library.\")\n",
    "        return\n",
    "    try:\n",
    "        with open(filename, 'r') as f:\n",
    "            for line in f:\n",
    "                title, author, genre, year, status = line.strip().split(',')\n",
    "                add_book(title, author, genre, int(year), status)\n",
    "    except Exception as e:\n",
    "        print(\"Error reading file:\", e)"
   ]
  },
  {
   "cell_type": "code",
   "execution_count": 46,
   "id": "80c141d7-97e5-45fd-b895-04ae5a43a0af",
   "metadata": {},
   "outputs": [],
   "source": [
    "# Building the Menu Function for Your Library App\n",
    "def menu():\n",
    "    while True:\n",
    "        print(\"\\n--- Personal Library Menu ---\")\n",
    "        print(\"1. Add Book\")\n",
    "        print(\"2. List All Books\")\n",
    "        print(\"3. List Books Sorted by Year\")\n",
    "        print(\"4. Search by Author\")\n",
    "        print(\"5. Delete Book by Title\")\n",
    "        print(\"6. Show Reading Summary\")\n",
    "        print(\"7. Show UPPERCASE Book Titles (map)\")\n",
    "        print(\"8. Save Library\")\n",
    "        print(\"9. Load Library\")\n",
    "        print(\"10. Exit\")\n",
    "        choice = input(\"Choose an option: \")\n",
    "        if choice == \"1\":\n",
    "            title = input(\"Title: \")\n",
    "            author = input(\"Author: \")\n",
    "            genre = input(\"Genre: \")\n",
    "            year = input(\"Year: \")\n",
    "            status = input(\"Status (read/unread): \")\n",
    "            add_book(title, author, genre, year, status)\n",
    "        elif choice == \"2\":\n",
    "            list_books()\n",
    "        elif choice == \"3\":\n",
    "            list_books(sorted_by_year=True)\n",
    "        elif choice == \"4\":\n",
    "            author = input(\"Enter author name: \")\n",
    "            results = search_by_author(author)\n",
    "            print(f\"\\n Found {len(results)} books by {author}:\")\n",
    "            for book in results:\n",
    "                print(f\"- {book['title']} ({book['year']})\")\n",
    "        elif choice == \"5\":\n",
    "            title = input(\"Enter title to delete: \")\n",
    "            delete_book(title)\n",
    "        elif choice == \"6\":\n",
    "            show_reading_summary()\n",
    "        elif choice == \"7\":\n",
    "            uppercase_titles()\n",
    "        elif choice == \"8\":\n",
    "            save_to_file(\"books_data.txt\")\n",
    "        elif choice == \"9\":\n",
    "            load_from_file(\"books_data.txt\")\n",
    "        elif choice == \"10\":\n",
    "            print(\"Goodbye!\")\n",
    "            break\n",
    "        else:\n",
    "            print(\"Invalid option. Try again.\")\n"
   ]
  },
  {
   "cell_type": "code",
   "execution_count": 49,
   "id": "a9db6574-99ce-4fd2-bac7-8a4d75c0de38",
   "metadata": {},
   "outputs": [
    {
     "name": "stdout",
     "output_type": "stream",
     "text": [
      "\n",
      "--- Personal Library Menu ---\n",
      "1. Add Book\n",
      "2. List All Books\n",
      "3. List Books Sorted by Year\n",
      "4. Search by Author\n",
      "5. Delete Book by Title\n",
      "6. Show Reading Summary\n",
      "7. Show UPPERCASE Book Titles (map)\n",
      "8. Save Library\n",
      "9. Load Library\n",
      "10. Exit\n"
     ]
    },
    {
     "name": "stdin",
     "output_type": "stream",
     "text": [
      "Choose an option:  2\n"
     ]
    },
    {
     "name": "stdout",
     "output_type": "stream",
     "text": [
      "1. python by hasini [programming, 2025] - Read\n",
      "2. programming by hasini [code, 2025] - Unread\n",
      "\n",
      "--- Personal Library Menu ---\n",
      "1. Add Book\n",
      "2. List All Books\n",
      "3. List Books Sorted by Year\n",
      "4. Search by Author\n",
      "5. Delete Book by Title\n",
      "6. Show Reading Summary\n",
      "7. Show UPPERCASE Book Titles (map)\n",
      "8. Save Library\n",
      "9. Load Library\n",
      "10. Exit\n"
     ]
    },
    {
     "name": "stdin",
     "output_type": "stream",
     "text": [
      "Choose an option:  1\n",
      "Title:  comedy\n",
      "Author:  abc\n",
      "Genre:  funny\n",
      "Year:  2024\n",
      "Status (read/unread):  unread\n"
     ]
    },
    {
     "name": "stdout",
     "output_type": "stream",
     "text": [
      "Book 'comedy' added.\n",
      "\n",
      "--- Personal Library Menu ---\n",
      "1. Add Book\n",
      "2. List All Books\n",
      "3. List Books Sorted by Year\n",
      "4. Search by Author\n",
      "5. Delete Book by Title\n",
      "6. Show Reading Summary\n",
      "7. Show UPPERCASE Book Titles (map)\n",
      "8. Save Library\n",
      "9. Load Library\n",
      "10. Exit\n"
     ]
    },
    {
     "name": "stdin",
     "output_type": "stream",
     "text": [
      "Choose an option:  3\n"
     ]
    },
    {
     "name": "stdout",
     "output_type": "stream",
     "text": [
      "1. comedy by abc [funny, 2024] - Unread\n",
      "2. python by hasini [programming, 2025] - Read\n",
      "3. programming by hasini [code, 2025] - Unread\n",
      "\n",
      "--- Personal Library Menu ---\n",
      "1. Add Book\n",
      "2. List All Books\n",
      "3. List Books Sorted by Year\n",
      "4. Search by Author\n",
      "5. Delete Book by Title\n",
      "6. Show Reading Summary\n",
      "7. Show UPPERCASE Book Titles (map)\n",
      "8. Save Library\n",
      "9. Load Library\n",
      "10. Exit\n"
     ]
    },
    {
     "name": "stdin",
     "output_type": "stream",
     "text": [
      "Choose an option:  4\n",
      "Enter author name:  hasini\n"
     ]
    },
    {
     "name": "stdout",
     "output_type": "stream",
     "text": [
      "\n",
      " Found 2 books by hasini:\n",
      "- python (2025)\n",
      "- programming (2025)\n",
      "\n",
      "--- Personal Library Menu ---\n",
      "1. Add Book\n",
      "2. List All Books\n",
      "3. List Books Sorted by Year\n",
      "4. Search by Author\n",
      "5. Delete Book by Title\n",
      "6. Show Reading Summary\n",
      "7. Show UPPERCASE Book Titles (map)\n",
      "8. Save Library\n",
      "9. Load Library\n",
      "10. Exit\n"
     ]
    },
    {
     "name": "stdin",
     "output_type": "stream",
     "text": [
      "Choose an option:  5\n",
      "Enter title to delete:  comedy\n"
     ]
    },
    {
     "name": "stdout",
     "output_type": "stream",
     "text": [
      "Book titled 'comedy' has been removed if it existed.\n",
      "\n",
      "--- Personal Library Menu ---\n",
      "1. Add Book\n",
      "2. List All Books\n",
      "3. List Books Sorted by Year\n",
      "4. Search by Author\n",
      "5. Delete Book by Title\n",
      "6. Show Reading Summary\n",
      "7. Show UPPERCASE Book Titles (map)\n",
      "8. Save Library\n",
      "9. Load Library\n",
      "10. Exit\n"
     ]
    },
    {
     "name": "stdin",
     "output_type": "stream",
     "text": [
      "Choose an option:  6\n"
     ]
    },
    {
     "name": "stdout",
     "output_type": "stream",
     "text": [
      "Read: 1 books (50.00%)\n",
      "Unread: 1 books (50.00%)\n",
      "\n",
      "--- Personal Library Menu ---\n",
      "1. Add Book\n",
      "2. List All Books\n",
      "3. List Books Sorted by Year\n",
      "4. Search by Author\n",
      "5. Delete Book by Title\n",
      "6. Show Reading Summary\n",
      "7. Show UPPERCASE Book Titles (map)\n",
      "8. Save Library\n",
      "9. Load Library\n",
      "10. Exit\n"
     ]
    },
    {
     "name": "stdin",
     "output_type": "stream",
     "text": [
      "Choose an option:  7\n"
     ]
    },
    {
     "name": "stdout",
     "output_type": "stream",
     "text": [
      "Book Titles (UPPERCASE):\n",
      "- PYTHON\n",
      "- PROGRAMMING\n",
      "\n",
      "--- Personal Library Menu ---\n",
      "1. Add Book\n",
      "2. List All Books\n",
      "3. List Books Sorted by Year\n",
      "4. Search by Author\n",
      "5. Delete Book by Title\n",
      "6. Show Reading Summary\n",
      "7. Show UPPERCASE Book Titles (map)\n",
      "8. Save Library\n",
      "9. Load Library\n",
      "10. Exit\n"
     ]
    },
    {
     "name": "stdin",
     "output_type": "stream",
     "text": [
      "Choose an option:  8\n"
     ]
    },
    {
     "name": "stdout",
     "output_type": "stream",
     "text": [
      "Saved 2 books to books_data.txt\n",
      "\n",
      "--- Personal Library Menu ---\n",
      "1. Add Book\n",
      "2. List All Books\n",
      "3. List Books Sorted by Year\n",
      "4. Search by Author\n",
      "5. Delete Book by Title\n",
      "6. Show Reading Summary\n",
      "7. Show UPPERCASE Book Titles (map)\n",
      "8. Save Library\n",
      "9. Load Library\n",
      "10. Exit\n"
     ]
    },
    {
     "name": "stdin",
     "output_type": "stream",
     "text": [
      "Choose an option:  9\n"
     ]
    },
    {
     "name": "stdout",
     "output_type": "stream",
     "text": [
      "Error reading file: too many values to unpack (expected 5)\n",
      "\n",
      "--- Personal Library Menu ---\n",
      "1. Add Book\n",
      "2. List All Books\n",
      "3. List Books Sorted by Year\n",
      "4. Search by Author\n",
      "5. Delete Book by Title\n",
      "6. Show Reading Summary\n",
      "7. Show UPPERCASE Book Titles (map)\n",
      "8. Save Library\n",
      "9. Load Library\n",
      "10. Exit\n"
     ]
    },
    {
     "name": "stdin",
     "output_type": "stream",
     "text": [
      "Choose an option:  10\n"
     ]
    },
    {
     "name": "stdout",
     "output_type": "stream",
     "text": [
      "Goodbye!\n"
     ]
    }
   ],
   "source": [
    "if __name__ == \"__main__\": # This line checks how the Python file is being run.\n",
    "    menu()"
   ]
  },
  {
   "cell_type": "code",
   "execution_count": null,
   "id": "b214970e-3839-4c0c-96bd-905650607df7",
   "metadata": {},
   "outputs": [],
   "source": []
  }
 ],
 "metadata": {
  "kernelspec": {
   "display_name": "Python 3 (ipykernel)",
   "language": "python",
   "name": "python3"
  },
  "language_info": {
   "codemirror_mode": {
    "name": "ipython",
    "version": 3
   },
   "file_extension": ".py",
   "mimetype": "text/x-python",
   "name": "python",
   "nbconvert_exporter": "python",
   "pygments_lexer": "ipython3",
   "version": "3.13.5"
  }
 },
 "nbformat": 4,
 "nbformat_minor": 5
}
